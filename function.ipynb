{
 "cells": [
  {
   "cell_type": "code",
   "execution_count": 1,
   "metadata": {},
   "outputs": [],
   "source": [
    "# def <function_name>():\n",
    "#     <operation>\n",
    "    \n",
    "    \n",
    "# <function_name>()"
   ]
  },
  {
   "cell_type": "code",
   "execution_count": 2,
   "metadata": {},
   "outputs": [
    {
     "name": "stdout",
     "output_type": "stream",
     "text": [
      "Hello World\n"
     ]
    }
   ],
   "source": [
    "def hello():\n",
    "    print(\"Hello World\")\n",
    "    \n",
    "hello()"
   ]
  },
  {
   "cell_type": "code",
   "execution_count": 4,
   "metadata": {},
   "outputs": [
    {
     "name": "stdout",
     "output_type": "stream",
     "text": [
      "Enter l = 23\n",
      "Enter b = 45\n",
      "Enter h = 2\n",
      "The volume is =  2070\n"
     ]
    }
   ],
   "source": [
    "def volume():\n",
    "    l = int(input(\"Enter l = \"))\n",
    "    b = int(input(\"Enter b = \"))\n",
    "    h = int(input(\"Enter h = \"))\n",
    "    v = l*b*h\n",
    "    print(\"The volume is = \",v)\n",
    "\n",
    "volume()"
   ]
  },
  {
   "cell_type": "code",
   "execution_count": 5,
   "metadata": {},
   "outputs": [
    {
     "name": "stdout",
     "output_type": "stream",
     "text": [
      "Enter l = 12\n",
      "Enter b = 45\n",
      "Enter h = 67\n",
      "The volume is =  36180\n"
     ]
    }
   ],
   "source": [
    "volume()"
   ]
  },
  {
   "cell_type": "code",
   "execution_count": 10,
   "metadata": {},
   "outputs": [
    {
     "name": "stdout",
     "output_type": "stream",
     "text": [
      "Enter l = 20\n",
      "Enter b = 40\n",
      "The area is =  800\n",
      "8000\n"
     ]
    }
   ],
   "source": [
    "def area():\n",
    "    global a\n",
    "    l = int(input(\"Enter l = \"))\n",
    "    b = int(input(\"Enter b = \"))\n",
    "    a = l*b\n",
    "    \n",
    "\n",
    "area()\n",
    "print(\"The area is = \",a)\n",
    "h = 10\n",
    "volume = a*h\n",
    "print(volume)"
   ]
  },
  {
   "cell_type": "code",
   "execution_count": 11,
   "metadata": {},
   "outputs": [],
   "source": [
    "# function with no arguments and no return type\n",
    "# function with arguments and no return type\n",
    "# function with no arguments and return type\n",
    "# function with arguments and return type"
   ]
  },
  {
   "cell_type": "code",
   "execution_count": null,
   "metadata": {},
   "outputs": [],
   "source": [
    "# function with no arguments and no return type\n",
    "def volume():\n",
    "    l = int(input(\"Enter l = \"))\n",
    "    b = int(input(\"Enter b = \"))\n",
    "    h = int(input(\"Enter h = \"))\n",
    "    v = l*b*h\n",
    "    print(\"The volume is = \",v)\n",
    "\n",
    "volume()"
   ]
  },
  {
   "cell_type": "code",
   "execution_count": 13,
   "metadata": {},
   "outputs": [
    {
     "name": "stdout",
     "output_type": "stream",
     "text": [
      "Enter l = 10\n",
      "Enter b = 40\n",
      "Enter h = 50\n",
      "The volume is =  20000\n"
     ]
    }
   ],
   "source": [
    "# function with arguments and no return type\n",
    "def volume(x,y,z):\n",
    "    v = x*y*z\n",
    "    print(\"The volume is = \",v)\n",
    "\n",
    "l = int(input(\"Enter l = \"))\n",
    "b = int(input(\"Enter b = \"))\n",
    "h = int(input(\"Enter h = \"))\n",
    "\n",
    "volume(l,b,h)"
   ]
  },
  {
   "cell_type": "code",
   "execution_count": 14,
   "metadata": {},
   "outputs": [
    {
     "name": "stdout",
     "output_type": "stream",
     "text": [
      "Enter l = 10\n",
      "Enter b = 39\n",
      "Enter h = 49\n",
      "The volume is =  19110\n"
     ]
    }
   ],
   "source": [
    "def volume(x,y,z):\n",
    "    v = x*y*z\n",
    "    print(\"The volume is = \",v)\n",
    "\n",
    "def area(x,y):\n",
    "    a = x*y\n",
    "    print(a)\n",
    "    \n",
    "l = int(input(\"Enter l = \"))\n",
    "b = int(input(\"Enter b = \"))\n",
    "h = int(input(\"Enter h = \"))\n",
    "\n",
    "volume(l,b,h)\n",
    "area(l,b)"
   ]
  },
  {
   "cell_type": "code",
   "execution_count": 15,
   "metadata": {},
   "outputs": [
    {
     "name": "stdout",
     "output_type": "stream",
     "text": [
      "C\n",
      "C++\n",
      "Java\n",
      "Python\n"
     ]
    }
   ],
   "source": [
    "def lan(language = \"Python\"):\n",
    "    print(language)\n",
    "    \n",
    "lan('C')\n",
    "lan(\"C++\")\n",
    "lan(\"Java\")\n",
    "lan()"
   ]
  },
  {
   "cell_type": "code",
   "execution_count": 17,
   "metadata": {},
   "outputs": [
    {
     "name": "stdout",
     "output_type": "stream",
     "text": [
      "Enter name = Ram\n",
      "Enter age = 56\n",
      "Enter addtess = Kathmandu\n",
      "Hello I am Ram I am  56 I am from Kathmandu\n"
     ]
    }
   ],
   "source": [
    "def info(a):\n",
    "    x,y,z = a\n",
    "    print(\"Hello I am\",x,\"I am \",y,\"I am from\",z)\n",
    "    \n",
    "name = input(\"Enter name = \")\n",
    "age = int(input(\"Enter age = \"))\n",
    "add = input(\"Enter addtess = \")\n",
    "\n",
    "a = (name,age,add)\n",
    "info(a)"
   ]
  },
  {
   "cell_type": "code",
   "execution_count": 18,
   "metadata": {},
   "outputs": [
    {
     "name": "stdout",
     "output_type": "stream",
     "text": [
      "Enter l = 10\n",
      "Enter b = 30\n",
      "Enter h = 49\n",
      "14700\n"
     ]
    }
   ],
   "source": [
    "# function with arguments and return type\n",
    "\n",
    "def volume(x,y,z):\n",
    "    v = x*y*z\n",
    "    return v\n",
    "\n",
    "l = int(input(\"Enter l = \"))\n",
    "b = int(input(\"Enter b = \"))\n",
    "h = int(input(\"Enter h = \"))\n",
    "\n",
    "print(volume(l,b,h))"
   ]
  },
  {
   "cell_type": "code",
   "execution_count": 19,
   "metadata": {},
   "outputs": [
    {
     "name": "stdout",
     "output_type": "stream",
     "text": [
      "Enter l = 2\n",
      "Enter b = 3\n",
      "Enter h = 4\n",
      "The area and volume is 6 24\n"
     ]
    }
   ],
   "source": [
    "# function with arguments and return type\n",
    "\n",
    "def area(x,y):\n",
    "    a = x*y\n",
    "    return a\n",
    "\n",
    "l = int(input(\"Enter l = \"))\n",
    "b = int(input(\"Enter b = \"))\n",
    "h = int(input(\"Enter h = \"))\n",
    "\n",
    "ar = area(l,b)\n",
    "volume = ar*h\n",
    "print(\"The area and volume is\",ar,volume)"
   ]
  },
  {
   "cell_type": "code",
   "execution_count": 20,
   "metadata": {},
   "outputs": [
    {
     "name": "stdout",
     "output_type": "stream",
     "text": [
      "Enter l = 67\n",
      "Enter b = 87\n",
      "Enter h = 54\n",
      "314766\n"
     ]
    }
   ],
   "source": [
    "# function with no arguments and return type\n",
    "l = int(input(\"Enter l = \"))\n",
    "b = int(input(\"Enter b = \"))\n",
    "h = int(input(\"Enter h = \"))\n",
    "\n",
    "def volume():\n",
    "    v = l*b*h\n",
    "    return v\n",
    "\n",
    "\n",
    "\n",
    "print(volume())"
   ]
  },
  {
   "cell_type": "code",
   "execution_count": null,
   "metadata": {},
   "outputs": [],
   "source": [
    "# function with no arguments and return type\n",
    "def volume():\n",
    "    l = int(input(\"Enter l = \"))\n",
    "    b = int(input(\"Enter b = \"))\n",
    "    h = int(input(\"Enter h = \"))\n",
    "    \n",
    "    v = l*b*h\n",
    "    return v\n",
    "\n",
    "\n",
    "\n",
    "print(volume())"
   ]
  },
  {
   "cell_type": "code",
   "execution_count": null,
   "metadata": {},
   "outputs": [],
   "source": [
    "def add(a,b):\n",
    "    return a+b\n",
    "def sub(a,b):\n",
    "    return a-b\n",
    "def mul(a,b):\n",
    "    return a*b\n",
    "def div(a,b):\n",
    "    return a/b\n",
    "\n",
    "def cal():\n",
    "    a = int(input(\"Enter a = \"))\n",
    "    b = int(input(\"Enter b = \"))\n",
    "    o = input(\"Enter + - * /\")\n",
    "    if o == '+':\n",
    "        print(add(a,b))\n",
    "\n",
    "    elif o == '-':\n",
    "        print(sub(a,b))\n",
    "\n",
    "    elif o == '*':\n",
    "        print(mul(a,b))\n",
    "\n",
    "    elif o == '/':\n",
    "        if b != 0:\n",
    "            print(div(a,b))\n",
    "\n",
    "    elif b == 0:\n",
    "        print(\"Value of b can not be zero\")\n",
    "\n",
    "    else:\n",
    "        print(\"Plz enter valid operator\")\n",
    "        \n",
    "cal()"
   ]
  },
  {
   "cell_type": "code",
   "execution_count": 21,
   "metadata": {},
   "outputs": [
    {
     "name": "stdout",
     "output_type": "stream",
     "text": [
      "Enter l = 10\n",
      "Enter b = 30\n",
      "Enter h = 40\n",
      "(300, 12000)\n"
     ]
    }
   ],
   "source": [
    "# function with no arguments and return type\n",
    "def volume():\n",
    "    l = int(input(\"Enter l = \"))\n",
    "    b = int(input(\"Enter b = \"))\n",
    "    h = int(input(\"Enter h = \"))\n",
    "    a = l*b\n",
    "    v = l*b*h\n",
    "    return a,v\n",
    "\n",
    "\n",
    "\n",
    "area,vol = volume()"
   ]
  },
  {
   "cell_type": "code",
   "execution_count": null,
   "metadata": {},
   "outputs": [],
   "source": []
  }
 ],
 "metadata": {
  "kernelspec": {
   "display_name": "Python 3",
   "language": "python",
   "name": "python3"
  },
  "language_info": {
   "codemirror_mode": {
    "name": "ipython",
    "version": 3
   },
   "file_extension": ".py",
   "mimetype": "text/x-python",
   "name": "python",
   "nbconvert_exporter": "python",
   "pygments_lexer": "ipython3",
   "version": "3.8.5"
  }
 },
 "nbformat": 4,
 "nbformat_minor": 2
}
