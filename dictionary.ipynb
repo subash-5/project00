{
 "cells": [
  {
   "cell_type": "code",
   "execution_count": 2,
   "metadata": {},
   "outputs": [
    {
     "name": "stdout",
     "output_type": "stream",
     "text": [
      "<class 'dict'>\n"
     ]
    }
   ],
   "source": [
    "a = {}\n",
    "print(type(a))"
   ]
  },
  {
   "cell_type": "code",
   "execution_count": 3,
   "metadata": {},
   "outputs": [],
   "source": [
    "# mutable\n",
    "# indexed\n",
    "# unordered\n",
    "# deplicate members\n",
    "# custom index"
   ]
  },
  {
   "cell_type": "code",
   "execution_count": 4,
   "metadata": {},
   "outputs": [],
   "source": [
    "# a = {<index>:<value>,<index>:<value>,....}"
   ]
  },
  {
   "cell_type": "code",
   "execution_count": 5,
   "metadata": {},
   "outputs": [
    {
     "name": "stdout",
     "output_type": "stream",
     "text": [
      "{'a': 'Apple', 'b': 'Ball', 'c': 'Cat'}\n"
     ]
    }
   ],
   "source": [
    "a = {'a':'Apple','b':\"Ball\",'c':\"Cat\"}\n",
    "print(a)"
   ]
  },
  {
   "cell_type": "code",
   "execution_count": 8,
   "metadata": {},
   "outputs": [
    {
     "name": "stdout",
     "output_type": "stream",
     "text": [
      "Ball\n"
     ]
    }
   ],
   "source": [
    "print(a['b'])"
   ]
  },
  {
   "cell_type": "code",
   "execution_count": 11,
   "metadata": {},
   "outputs": [
    {
     "name": "stdout",
     "output_type": "stream",
     "text": [
      "{'b': 'Ball', 'a': '1Apple', 'c': 'Cat'}\n"
     ]
    }
   ],
   "source": [
    "a = {'b':\"Ball\",'a':'Apple','c':\"Cat\"}\n",
    "print(a)"
   ]
  },
  {
   "cell_type": "code",
   "execution_count": 12,
   "metadata": {},
   "outputs": [
    {
     "name": "stdout",
     "output_type": "stream",
     "text": [
      "{'a': 'Apple', 'b': 'Ball', 'c': 'Cat', 'A': 'Apple'}\n"
     ]
    }
   ],
   "source": [
    "a = {'a':'Apple','b':\"Ball\",'c':\"Cat\",'A':\"Apple\"}\n",
    "print(a)"
   ]
  },
  {
   "cell_type": "code",
   "execution_count": 14,
   "metadata": {},
   "outputs": [
    {
     "name": "stdout",
     "output_type": "stream",
     "text": [
      "{'a': 'Ant', 'b': 'Ball', 'c': 'Cat'}\n"
     ]
    }
   ],
   "source": [
    "a = {'a':'Apple','b':\"Ball\",'c':\"Cat\",'a':\"Ant\"}\n",
    "print(a)"
   ]
  },
  {
   "cell_type": "code",
   "execution_count": 18,
   "metadata": {},
   "outputs": [
    {
     "name": "stdout",
     "output_type": "stream",
     "text": [
      "{'a': 'Ant', 'b': 'Ball', 'c': 'Cat'}\n"
     ]
    }
   ],
   "source": [
    "a = {}\n",
    "a['a'] = 'Apple'\n",
    "a['b'] = 'Ball'\n",
    "a['c'] = 'Cat'\n",
    "a['a'] = 'Ant'\n",
    "print(a)"
   ]
  },
  {
   "cell_type": "code",
   "execution_count": 21,
   "metadata": {},
   "outputs": [
    {
     "name": "stdout",
     "output_type": "stream",
     "text": [
      "{0.5: 'Ant', 'b': 'Ball', 'c': 'Cat'}\n"
     ]
    }
   ],
   "source": [
    "a = {0.5: 'Ant', 'b': 'Ball', 'c': 'Cat'}\n",
    "print(a)"
   ]
  },
  {
   "cell_type": "code",
   "execution_count": null,
   "metadata": {},
   "outputs": [],
   "source": [
    "int float str"
   ]
  },
  {
   "cell_type": "code",
   "execution_count": 24,
   "metadata": {},
   "outputs": [
    {
     "name": "stdout",
     "output_type": "stream",
     "text": [
      "{('a',): 'Ant', 'b': 'Ball', 'c': 'Cat'}\n"
     ]
    }
   ],
   "source": [
    "a = {('a',): 'Ant', 'b': 'Ball', 'c': 'Cat'}\n",
    "print(a)"
   ]
  },
  {
   "cell_type": "code",
   "execution_count": 26,
   "metadata": {},
   "outputs": [
    {
     "name": "stdout",
     "output_type": "stream",
     "text": [
      "{('a',): 'Ant', 'b': 'Ball', 'c': 'Cat'}\n"
     ]
    }
   ],
   "source": [
    "a = {('a',): 'Ant', 'b': 'Ball', 'c': 'Cat'}\n",
    "print(a)"
   ]
  },
  {
   "cell_type": "code",
   "execution_count": 29,
   "metadata": {},
   "outputs": [
    {
     "name": "stdout",
     "output_type": "stream",
     "text": [
      "Ant\n",
      "Ball\n",
      "Cat\n"
     ]
    }
   ],
   "source": [
    "a = {'a': 'Ant', 'b': 'Ball', 'c': 'Cat'}\n",
    "for i in a.values():\n",
    "    print(i)"
   ]
  },
  {
   "cell_type": "code",
   "execution_count": 30,
   "metadata": {},
   "outputs": [
    {
     "name": "stdout",
     "output_type": "stream",
     "text": [
      "a\n",
      "b\n",
      "c\n"
     ]
    }
   ],
   "source": [
    "a = {'a': 'Ant', 'b': 'Ball', 'c': 'Cat'}\n",
    "for i in a:\n",
    "    print(i)"
   ]
  },
  {
   "cell_type": "code",
   "execution_count": 31,
   "metadata": {},
   "outputs": [
    {
     "name": "stdout",
     "output_type": "stream",
     "text": [
      "('a', 'Ant')\n",
      "('b', 'Ball')\n",
      "('c', 'Cat')\n"
     ]
    }
   ],
   "source": [
    "a = {'a': 'Ant', 'b': 'Ball', 'c': 'Cat'}\n",
    "for i in a.items():\n",
    "    print(i)"
   ]
  },
  {
   "cell_type": "code",
   "execution_count": 32,
   "metadata": {},
   "outputs": [
    {
     "name": "stdout",
     "output_type": "stream",
     "text": [
      "[('a', 'Ant'), ('b', 'Ball'), ('c', 'Cat')]\n"
     ]
    }
   ],
   "source": [
    "a_list = []\n",
    "a = {'a': 'Ant', 'b': 'Ball', 'c': 'Cat'}\n",
    "for i in a.items():\n",
    "    a_list.append(i)\n",
    "    \n",
    "print(a_list)"
   ]
  },
  {
   "cell_type": "code",
   "execution_count": 33,
   "metadata": {},
   "outputs": [
    {
     "name": "stdout",
     "output_type": "stream",
     "text": [
      "{'a': 'Ant', 'b': 'Ball', 'c': 'Cat'}\n"
     ]
    }
   ],
   "source": [
    "a = [('a', 'Ant'), ('b', 'Ball'), ('c', 'Cat')]\n",
    "new_dict = {}\n",
    "for i in a:\n",
    "    key = i[0]\n",
    "    value = i[1]\n",
    "    new_dict[key] = value\n",
    "    \n",
    "print(new_dict)"
   ]
  },
  {
   "cell_type": "code",
   "execution_count": 34,
   "metadata": {},
   "outputs": [
    {
     "name": "stdout",
     "output_type": "stream",
     "text": [
      "Enter n = 2\n",
      "Enter name = Ram\n",
      "Enter phone9878776765\n",
      "Enter name = Shyam\n",
      "Enter phone9867665654\n",
      "{'Ram': 9878776765, 'Shyam': 9867665654}\n"
     ]
    }
   ],
   "source": [
    "# create\n",
    "info = {}\n",
    "n = int(input('Enter n = '))\n",
    "for i in range(n):\n",
    "    name = input(\"Enter name = \")\n",
    "    phone = int(input(\"Enter phone\"))\n",
    "    key = name\n",
    "    value = phone\n",
    "    info[key] = value\n",
    "    \n",
    "print(info)"
   ]
  },
  {
   "cell_type": "code",
   "execution_count": 35,
   "metadata": {},
   "outputs": [
    {
     "name": "stdout",
     "output_type": "stream",
     "text": [
      "Enter name = Ram\n",
      "9878776765\n"
     ]
    }
   ],
   "source": [
    "# read\n",
    "name = input(\"Enter name = \")\n",
    "print(info[name])"
   ]
  },
  {
   "cell_type": "code",
   "execution_count": 37,
   "metadata": {},
   "outputs": [
    {
     "name": "stdout",
     "output_type": "stream",
     "text": [
      "Enter name = Ram\n",
      "Phone no = 9800000000\n",
      "{'Ram': 9800000000, 'Shyam': 9867665654}\n"
     ]
    }
   ],
   "source": [
    "# update\n",
    "name = input(\"Enter name = \")\n",
    "new_phone = int(input(\"Phone no = \"))\n",
    "info[name] = new_phone\n",
    "print(info)"
   ]
  },
  {
   "cell_type": "code",
   "execution_count": 38,
   "metadata": {},
   "outputs": [],
   "source": [
    "a = {'Ram': 9800000000, 'Shyam': 9867665654}\n",
    "del a['Ram']"
   ]
  },
  {
   "cell_type": "code",
   "execution_count": 39,
   "metadata": {},
   "outputs": [
    {
     "data": {
      "text/plain": [
       "{'Shyam': 9867665654}"
      ]
     },
     "execution_count": 39,
     "metadata": {},
     "output_type": "execute_result"
    }
   ],
   "source": [
    "a"
   ]
  },
  {
   "cell_type": "code",
   "execution_count": 41,
   "metadata": {},
   "outputs": [
    {
     "data": {
      "text/plain": [
       "9800000000"
      ]
     },
     "execution_count": 41,
     "metadata": {},
     "output_type": "execute_result"
    }
   ],
   "source": [
    "a = {'Ram': 9800000000, 'Shyam': 9867665654}\n",
    "a.pop('Ram')"
   ]
  },
  {
   "cell_type": "code",
   "execution_count": 42,
   "metadata": {},
   "outputs": [
    {
     "name": "stdout",
     "output_type": "stream",
     "text": [
      "{'Shyam': 9867665654}\n"
     ]
    }
   ],
   "source": [
    "print(a)"
   ]
  },
  {
   "cell_type": "code",
   "execution_count": 44,
   "metadata": {},
   "outputs": [
    {
     "name": "stdout",
     "output_type": "stream",
     "text": [
      "9800000000\n",
      "{'Shyam': 9867665654}\n"
     ]
    }
   ],
   "source": [
    "a = {'Ram': 9800000000, 'Shyam': 9867665654}\n",
    "b = a.pop('Ram')\n",
    "print(b)\n",
    "print(a)"
   ]
  },
  {
   "cell_type": "code",
   "execution_count": 45,
   "metadata": {},
   "outputs": [],
   "source": [
    "# clear() update()\n",
    "a = {'Ram': 9800000000, 'Shyam': 9867665654}\n",
    "a.clear()"
   ]
  },
  {
   "cell_type": "code",
   "execution_count": 46,
   "metadata": {},
   "outputs": [
    {
     "data": {
      "text/plain": [
       "{}"
      ]
     },
     "execution_count": 46,
     "metadata": {},
     "output_type": "execute_result"
    }
   ],
   "source": [
    "a"
   ]
  },
  {
   "cell_type": "code",
   "execution_count": 49,
   "metadata": {},
   "outputs": [],
   "source": [
    "a ={'Ram': 9800000000, 'Shyam': 9867665654}\n",
    "b = {'Hari':9878665654}\n",
    "a.update(b)"
   ]
  },
  {
   "cell_type": "code",
   "execution_count": 50,
   "metadata": {},
   "outputs": [
    {
     "data": {
      "text/plain": [
       "{'Ram': 9800000000, 'Shyam': 9867665654, 'Hari': 9878665654}"
      ]
     },
     "execution_count": 50,
     "metadata": {},
     "output_type": "execute_result"
    }
   ],
   "source": [
    "a"
   ]
  },
  {
   "cell_type": "code",
   "execution_count": 53,
   "metadata": {},
   "outputs": [
    {
     "data": {
      "text/plain": [
       "('A', 'p', 'p', 'l', 'e')"
      ]
     },
     "execution_count": 53,
     "metadata": {},
     "output_type": "execute_result"
    }
   ],
   "source": [
    "a = list(\"Apple\")\n",
    "b = tuple(a)\n",
    "b"
   ]
  },
  {
   "cell_type": "code",
   "execution_count": 54,
   "metadata": {},
   "outputs": [
    {
     "ename": "ValueError",
     "evalue": "dictionary update sequence element #0 has length 1; 2 is required",
     "output_type": "error",
     "traceback": [
      "\u001b[1;31m---------------------------------------------------------------------------\u001b[0m",
      "\u001b[1;31mValueError\u001b[0m                                Traceback (most recent call last)",
      "\u001b[1;32m<ipython-input-54-c842d9bf0623>\u001b[0m in \u001b[0;36m<module>\u001b[1;34m\u001b[0m\n\u001b[1;32m----> 1\u001b[1;33m \u001b[0mdict\u001b[0m\u001b[1;33m(\u001b[0m\u001b[0mb\u001b[0m\u001b[1;33m)\u001b[0m\u001b[1;33m\u001b[0m\u001b[1;33m\u001b[0m\u001b[0m\n\u001b[0m",
      "\u001b[1;31mValueError\u001b[0m: dictionary update sequence element #0 has length 1; 2 is required"
     ]
    }
   ],
   "source": [
    "dict(b)"
   ]
  },
  {
   "cell_type": "code",
   "execution_count": 55,
   "metadata": {},
   "outputs": [
    {
     "data": {
      "text/plain": [
       "{}"
      ]
     },
     "execution_count": 55,
     "metadata": {},
     "output_type": "execute_result"
    }
   ],
   "source": [
    "a = dict()\n",
    "a"
   ]
  },
  {
   "cell_type": "code",
   "execution_count": 56,
   "metadata": {},
   "outputs": [
    {
     "data": {
      "text/plain": [
       "{'Ram': 9800000000, 'Shyam': 9867665654, 'Hari': 9878665654}"
      ]
     },
     "execution_count": 56,
     "metadata": {},
     "output_type": "execute_result"
    }
   ],
   "source": [
    "a = {'Ram': 9800000000, 'Shyam': 9867665654, 'Hari': 9878665654}\n",
    "b = a.copy()\n",
    "b"
   ]
  },
  {
   "cell_type": "code",
   "execution_count": 57,
   "metadata": {},
   "outputs": [
    {
     "name": "stdout",
     "output_type": "stream",
     "text": [
      "Ram 89 Kathmandu\n"
     ]
    }
   ],
   "source": [
    "data = {'name':'Ram','age':89,'add':'Kathmandu'}\n",
    "def info(x):\n",
    "    n = x['name']\n",
    "    y = x['age']\n",
    "    z = x['add']\n",
    "    print(n,y,z)\n",
    "info(data)"
   ]
  },
  {
   "cell_type": "code",
   "execution_count": 1,
   "metadata": {},
   "outputs": [],
   "source": [
    "# # list inside dicts\n",
    "# a = {1:['Ram',53,'Kathmandu'],2:['Shyam',73,'Bara']}\n",
    "# b = {'Roll':[1,2],'Name':['Ram','Shyam'],'Age':[56,78],'Address':['Kathmandu','Bara']}"
   ]
  },
  {
   "cell_type": "code",
   "execution_count": 3,
   "metadata": {},
   "outputs": [
    {
     "name": "stdout",
     "output_type": "stream",
     "text": [
      "Enter n = 2\n",
      "Enter name = Ram\n",
      "Enter age = 56\n",
      "Enter address = KAthmandu\n",
      "Enter name = Shyam\n",
      "Enter age = 56\n",
      "Enter address = Bara\n",
      "{1: ['Ram', 56, 'KAthmandu'], 2: ['Shyam', 56, 'Bara']}\n"
     ]
    }
   ],
   "source": [
    "a = {}\n",
    "n = int(input(\"Enter n = \"))\n",
    "for i in range(1,n+1):\n",
    "    name = input(\"Enter name = \")\n",
    "    age = int(input(\"Enter age = \"))\n",
    "    add = input(\"Enter address = \")\n",
    "    a[i] = [name,age,add]\n",
    "print(a)"
   ]
  },
  {
   "cell_type": "code",
   "execution_count": 5,
   "metadata": {},
   "outputs": [
    {
     "name": "stdout",
     "output_type": "stream",
     "text": [
      "(1, ['Ram', 56, 'KAthmandu'])\n",
      "(2, ['Shyam', 56, 'Bara'])\n"
     ]
    }
   ],
   "source": [
    "for i in a.items():\n",
    "    print(i)"
   ]
  },
  {
   "cell_type": "code",
   "execution_count": 10,
   "metadata": {},
   "outputs": [
    {
     "name": "stdout",
     "output_type": "stream",
     "text": [
      "{1: ['Ram', 56, 'Kathmandu'], 2: ['Shyam', 56, 'Bara']}\n"
     ]
    }
   ],
   "source": [
    "a[1][2] = 'Kathmandu'\n",
    "print(a)"
   ]
  },
  {
   "cell_type": "code",
   "execution_count": 14,
   "metadata": {},
   "outputs": [],
   "source": [
    "a[1][2] = ['Kathmandu','Dhading']"
   ]
  },
  {
   "cell_type": "code",
   "execution_count": 15,
   "metadata": {},
   "outputs": [
    {
     "data": {
      "text/plain": [
       "{1: ['Ram', 56, ['Kathmandu', 'Dhading']], 2: ['Shyam', 56, 'Bara']}"
      ]
     },
     "execution_count": 15,
     "metadata": {},
     "output_type": "execute_result"
    }
   ],
   "source": [
    "a"
   ]
  },
  {
   "cell_type": "code",
   "execution_count": 16,
   "metadata": {},
   "outputs": [],
   "source": [
    "a[1][2].append('Gorkha')"
   ]
  },
  {
   "cell_type": "code",
   "execution_count": 17,
   "metadata": {},
   "outputs": [
    {
     "data": {
      "text/plain": [
       "{1: ['Ram', 56, ['Kathmandu', 'Dhading', 'Gorkha']], 2: ['Shyam', 56, 'Bara']}"
      ]
     },
     "execution_count": 17,
     "metadata": {},
     "output_type": "execute_result"
    }
   ],
   "source": [
    "a"
   ]
  },
  {
   "cell_type": "code",
   "execution_count": 19,
   "metadata": {},
   "outputs": [
    {
     "name": "stdout",
     "output_type": "stream",
     "text": [
      "ENtre how many rows = 2\n",
      "Enter name = Ram\n",
      "Enter age = 45\n",
      "Enter address = Kathmandu\n",
      "Enter name = Shyam\n",
      "Enter age = 78\n",
      "Enter address = Patan\n",
      "{'Roll': [1, 2], 'Name': ['Ram', 'Shyam'], 'Age': [45, 78], 'Address': ['Kathmandu', 'Patan']}\n"
     ]
    }
   ],
   "source": [
    "# b = {'Roll':[1,2],'Name':['Ram','Shyam'],'Age':[56,78],'Address':['Kathmandu','Bara']}\n",
    "b = {}\n",
    "rol = []\n",
    "na = []\n",
    "ag = []\n",
    "add = []\n",
    "n = int(input(\"ENtre how many rows = \"))\n",
    "for i in range(1,n+1):\n",
    "    name = input(\"Enter name = \")\n",
    "    age = int(input(\"Enter age = \"))\n",
    "    address = input(\"Enter address = \")\n",
    "    rol.append(i)\n",
    "    na.append(name)\n",
    "    ag.append(age)\n",
    "    add.append(address)\n",
    "\n",
    "b = {'Roll':rol,'Name':na,'Age':ag,'Address':add}\n",
    "print(b)"
   ]
  },
  {
   "cell_type": "code",
   "execution_count": 4,
   "metadata": {},
   "outputs": [
    {
     "name": "stdout",
     "output_type": "stream",
     "text": [
      "Enter roll = 1\n",
      "1 Ram 45 Kathmandu\n"
     ]
    }
   ],
   "source": [
    "b = {'Roll': [1, 2], 'Name': ['Ram', 'Shyam'], 'Age': [45, 78], 'Address': ['Kathmandu', 'Patan']}\n",
    "\n",
    "roll = int(input(\"Enter roll = \"))\n",
    "roll = roll-1\n",
    "rol = b['Roll'][roll]\n",
    "name = b['Name'][roll]\n",
    "age = b['Age'][roll]\n",
    "add = b['Address'][roll]\n",
    "print(rol,name,age,add)"
   ]
  },
  {
   "cell_type": "code",
   "execution_count": 9,
   "metadata": {},
   "outputs": [
    {
     "name": "stdout",
     "output_type": "stream",
     "text": [
      "{'Ram': {'Physics': 56, 'Chemistry': 78, 'Math': 67, 'English': 56, 'Nepali': 78}, 'Shyam': {'Physics': 65, 'Chemistry': 98, 'Math': 57, 'English': 69, 'Nepali': 98}}\n"
     ]
    }
   ],
   "source": [
    "# dicts inside dicts\n",
    "c = {'Ram':{'Physics':56,'Chemistry':78,'Math':67,'English':56,'Nepali':78},\n",
    "    'Shyam':{'Physics':65,'Chemistry':98,'Math':57,'English':69,'Nepali':98}}\n",
    "print(c)"
   ]
  },
  {
   "cell_type": "code",
   "execution_count": 10,
   "metadata": {},
   "outputs": [
    {
     "name": "stdout",
     "output_type": "stream",
     "text": [
      "Ram\n",
      "Shyam\n",
      "Enter name = Shyam\n"
     ]
    },
    {
     "data": {
      "text/plain": [
       "{'Physics': 65, 'Chemistry': 98, 'Math': 57, 'English': 69, 'Nepali': 98}"
      ]
     },
     "execution_count": 10,
     "metadata": {},
     "output_type": "execute_result"
    }
   ],
   "source": [
    "for i in c:\n",
    "    print(i)\n",
    "name = input(\"Enter name = \")\n",
    "c[name]"
   ]
  },
  {
   "cell_type": "code",
   "execution_count": 12,
   "metadata": {},
   "outputs": [
    {
     "name": "stdout",
     "output_type": "stream",
     "text": [
      "{'Ram': {'Physics': 56, 'Chemistry': 78, 'Math': 67, 'English': 56, 'Nepali': 78}}\n"
     ]
    }
   ],
   "source": [
    "del c['Shyam']\n",
    "print(c)"
   ]
  },
  {
   "cell_type": "code",
   "execution_count": 14,
   "metadata": {},
   "outputs": [],
   "source": [
    "c = {'Ram': {'Physics': 56, 'Chemistry': 78, 'Math': 67, 'English': 56, 'Nepali': 78},\n",
    "     'Shyam': {'Physics': 65, 'Chemistry': 98, 'Math': 57, 'English': 69, 'Nepali': 98}}"
   ]
  },
  {
   "cell_type": "code",
   "execution_count": 16,
   "metadata": {},
   "outputs": [],
   "source": [
    "c['Ram']['Physics'] = 96"
   ]
  },
  {
   "cell_type": "code",
   "execution_count": 17,
   "metadata": {},
   "outputs": [
    {
     "name": "stdout",
     "output_type": "stream",
     "text": [
      "{'Ram': {'Physics': 96, 'Chemistry': 78, 'Math': 67, 'English': 56, 'Nepali': 78}, 'Shyam': {'Physics': 65, 'Chemistry': 98, 'Math': 57, 'English': 69, 'Nepali': 98}}\n"
     ]
    }
   ],
   "source": [
    "print(c)"
   ]
  },
  {
   "cell_type": "code",
   "execution_count": 18,
   "metadata": {},
   "outputs": [
    {
     "name": "stdout",
     "output_type": "stream",
     "text": [
      "{'Ram': {'Physics': [71, 25], 'Chemistry': 78, 'Math': 67, 'English': 56, 'Nepali': 78}, 'Shyam': {'Physics': 65, 'Chemistry': 98, 'Math': 57, 'English': 69, 'Nepali': 98}}\n"
     ]
    }
   ],
   "source": [
    "c['Ram']['Physics'] = [71,25]\n",
    "print(c)"
   ]
  },
  {
   "cell_type": "code",
   "execution_count": 19,
   "metadata": {},
   "outputs": [
    {
     "name": "stdout",
     "output_type": "stream",
     "text": [
      "{'Ram': {'Physics': 96, 'Chemistry': 78, 'Math': 67, 'English': 56, 'Nepali': 78}, 'Shyam': {'Physics': 65, 'Chemistry': 98, 'Math': 57, 'English': 69, 'Nepali': 98}, 'Hari': {'Physics': 89, 'Chemistry': 58, 'Math': 47, 'English': 49, 'Nepali': 81}}\n"
     ]
    }
   ],
   "source": [
    "x = {'Ram': {'Physics': 96, 'Chemistry': 78, 'Math': 67, 'English': 56, 'Nepali': 78}, \n",
    "     'Shyam': {'Physics': 65, 'Chemistry': 98, 'Math': 57, 'English': 69, 'Nepali': 98}}\n",
    "\n",
    "x['Hari'] = {'Physics': 89, 'Chemistry': 58, 'Math': 47, 'English': 49, 'Nepali': 81}\n",
    "print(x)"
   ]
  },
  {
   "cell_type": "code",
   "execution_count": 20,
   "metadata": {},
   "outputs": [
    {
     "name": "stdout",
     "output_type": "stream",
     "text": [
      "Enter n = 2\n",
      "Enter name = Ram\n",
      "Enter age = 67\n",
      "Enter address = Patan\n",
      "Enter name = Shyam\n",
      "Enter age = 67\n",
      "Enter address = Kathmandu\n",
      "{1: {'Name': 'Ram', 'Age': 67, 'Address': 'Patan'}, 2: {'Name': 'Shyam', 'Age': 67, 'Address': 'Kathmandu'}}\n"
     ]
    }
   ],
   "source": [
    "# dicts inside dicts\n",
    "a = {}\n",
    "n = int(input(\"Enter n = \"))\n",
    "for i in range(1,n+1):\n",
    "    name = input(\"Enter name = \")\n",
    "    age = int(input(\"Enter age = \"))\n",
    "    add = input(\"Enter address = \")\n",
    "    a[i] = {'Name':name,'Age':age,'Address':add}\n",
    "print(a)"
   ]
  },
  {
   "cell_type": "code",
   "execution_count": 21,
   "metadata": {},
   "outputs": [
    {
     "name": "stdout",
     "output_type": "stream",
     "text": [
      "1\n",
      "2\n"
     ]
    }
   ],
   "source": [
    "for i in a:\n",
    "    print(i)"
   ]
  },
  {
   "cell_type": "code",
   "execution_count": 22,
   "metadata": {},
   "outputs": [
    {
     "data": {
      "text/plain": [
       "{'Name': 'Ram', 'Age': 67, 'Address': 'Patan'}"
      ]
     },
     "execution_count": 22,
     "metadata": {},
     "output_type": "execute_result"
    }
   ],
   "source": [
    "a[1]"
   ]
  },
  {
   "cell_type": "code",
   "execution_count": 23,
   "metadata": {},
   "outputs": [
    {
     "data": {
      "text/plain": [
       "{'Name': 'Ram', 'Age': 67, 'Address': 'Patan'}"
      ]
     },
     "execution_count": 23,
     "metadata": {},
     "output_type": "execute_result"
    }
   ],
   "source": [
    "# dicts inside list\n",
    "a = [{'Name': 'Ram', 'Age': 67, 'Address': 'Patan'},\n",
    "     {'Name': 'Shyam', 'Age': 67, 'Address': 'Kathmandu'}]\n",
    "a[0]"
   ]
  },
  {
   "cell_type": "code",
   "execution_count": 24,
   "metadata": {},
   "outputs": [
    {
     "name": "stdout",
     "output_type": "stream",
     "text": [
      "{'Name': 'Ram', 'Age': 67, 'Address': 'Patan'}\n",
      "{'Name': 'Shyam', 'Age': 67, 'Address': 'Kathmandu'}\n"
     ]
    }
   ],
   "source": [
    "for i in a:\n",
    "    print(i)"
   ]
  },
  {
   "cell_type": "code",
   "execution_count": 25,
   "metadata": {},
   "outputs": [
    {
     "name": "stdout",
     "output_type": "stream",
     "text": [
      "[{'Name': 'Ram', 'Age': 67, 'Address': 'Patan'}, {'Name': 'Shyam', 'Age': 67, 'Address': 'Kathmandu'}, {'Name': 'Hari', 'Age': 45, 'Address': 'Bara'}]\n"
     ]
    }
   ],
   "source": [
    "a = [{'Name': 'Ram', 'Age': 67, 'Address': 'Patan'},\n",
    "     {'Name': 'Shyam', 'Age': 67, 'Address': 'Kathmandu'}]\n",
    "d = {'Name':'Hari','Age':45,'Address':'Bara'}\n",
    "a.append(d)\n",
    "print(a)"
   ]
  },
  {
   "cell_type": "code",
   "execution_count": null,
   "metadata": {},
   "outputs": [],
   "source": []
  }
 ],
 "metadata": {
  "kernelspec": {
   "display_name": "Python 3",
   "language": "python",
   "name": "python3"
  },
  "language_info": {
   "codemirror_mode": {
    "name": "ipython",
    "version": 3
   },
   "file_extension": ".py",
   "mimetype": "text/x-python",
   "name": "python",
   "nbconvert_exporter": "python",
   "pygments_lexer": "ipython3",
   "version": "3.7.1"
  }
 },
 "nbformat": 4,
 "nbformat_minor": 2
}
