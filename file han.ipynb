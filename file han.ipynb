{
 "cells": [
  {
   "cell_type": "code",
   "execution_count": 44,
   "metadata": {},
   "outputs": [],
   "source": [
    "try:\n",
    "    b = open('class630am.txt','x')\n",
    "    b.close()\n",
    "except:\n",
    "    print(\"The file is already there\")"
   ]
  },
  {
   "cell_type": "code",
   "execution_count": 6,
   "metadata": {},
   "outputs": [
    {
     "name": "stdout",
     "output_type": "stream",
     "text": [
      "1.Hello World\n",
      "2.Hello World\n",
      "3.Hello World\n",
      "4.Hello World\n",
      "5.Hello World\n",
      "6.Hello World\n",
      "<class 'str'>\n"
     ]
    }
   ],
   "source": [
    "b = open('class630am.txt','r')\n",
    "c = b.read()\n",
    "print(c)\n",
    "print(type(c))\n",
    "b.close()"
   ]
  },
  {
   "cell_type": "code",
   "execution_count": 9,
   "metadata": {},
   "outputs": [
    {
     "name": "stdout",
     "output_type": "stream",
     "text": [
      "1.Hello World\n",
      "2.Hello World\n",
      "3.Hello World\n",
      "4.Hello World\n",
      "5.Hello World\n",
      "6.Hello World\n",
      "<class 'str'>\n"
     ]
    }
   ],
   "source": [
    "b = open('class630am.txt','r')\n",
    "c = b.read()\n",
    "print(c)\n",
    "print(type(c))\n",
    "b.close()"
   ]
  },
  {
   "cell_type": "code",
   "execution_count": 45,
   "metadata": {},
   "outputs": [
    {
     "name": "stdout",
     "output_type": "stream",
     "text": [
      "hjdhd jhdajkdh sjdhasjkdh ajskdhjasdjashsadh jakdhjahd ajksdhasjhd jdhd jasdjasdh jdhdjahd ajdhajdhjahdjashdjahd jkahdjkahdjkadhjkahdjkahdjkahd hdjashdjshd hjkdhjkashd jdkhsdjahdas dkjdhksjhd kjshdjaskdh adjhjaskdhjaskdhas d jkhdjshd\n",
      "\n",
      "jashdjkahdjh djkhdjksahd djkdhasjkhdjd jkdhsajdh sdjhdjskdhjskhds dkjdhsajkdh djksahdjsadh sjdhjaskhdjkasdhjdh\n"
     ]
    }
   ],
   "source": [
    "b = open('class630am.txt','r')\n",
    "print(b.readline())\n",
    "print(b.readline())\n",
    "b.close()"
   ]
  },
  {
   "cell_type": "code",
   "execution_count": 47,
   "metadata": {},
   "outputs": [
    {
     "name": "stdout",
     "output_type": "stream",
     "text": [
      "Enter line no = 2\n",
      "jashdjkahdjh djkhdjksahd djkdhasjkhdjd jkdhsajdh sdjhdjskdhjskhds dkjdhsajkdh djksahdjsadh sjdhjaskhdjkasdhjdh\n"
     ]
    }
   ],
   "source": [
    "b = open('class630am.txt','r')\n",
    "n = int(input(\"Enter line no = \"))\n",
    "for i in range(1,7):\n",
    "    if n != i:\n",
    "        \n",
    "        b.readline()\n",
    "    else:\n",
    "        print(b.readline())\n",
    "b.close()"
   ]
  },
  {
   "cell_type": "code",
   "execution_count": 51,
   "metadata": {},
   "outputs": [
    {
     "name": "stdout",
     "output_type": "stream",
     "text": [
      "hjdhd jhdajkdh sjdhasjkdh ajskdhjasdjashsadh jakdhjahd. ajksdhasjhd jdhd jasdjasdh jdhdjahd ajdhajdhjahdjashdjahd jkahdjkahdjkadhjkahdjkahdjkahd hdjashdjshd hjkdhjkashd jdkhsdjahdas dkjdhksjhd kjshdjaskdh. adjhjaskdhjaskdhas d jkhdjshd. \n",
      "jashdjkahdjh djkhdjksahd djkdhasjkhdjd jkdhsajdh. sdjhdjskdhjskhds dkjdhsajkdh djksahdjsadh sjdhjaskhdjkasdhjdh\n",
      "['hjdhd jhdajkdh sjdhasjkdh ajskdhjasdjashsadh jakdhjahd', 'ajksdhasjhd jdhd jasdjasdh jdhdjahd ajdhajdhjahdjashdjahd jkahdjkahdjkadhjkahdjkahdjkahd hdjashdjshd hjkdhjkashd jdkhsdjahdas dkjdhksjhd kjshdjaskdh', 'adjhjaskdhjaskdhas d jkhdjshd', '\\njashdjkahdjh djkhdjksahd djkdhasjkhdjd jkdhsajdh', 'sdjhdjskdhjskhds dkjdhsajkdh djksahdjsadh sjdhjaskhdjkasdhjdh']\n"
     ]
    }
   ],
   "source": [
    "b = open('class630am.txt','r')\n",
    "c = b.read()\n",
    "print(c)\n",
    "print(c.split('. '))\n",
    "b.close()"
   ]
  },
  {
   "cell_type": "code",
   "execution_count": 19,
   "metadata": {},
   "outputs": [],
   "source": [
    "b = open('class630am.txt','a')\n",
    "b.write('\\n8.Hello World')\n",
    "b.close()"
   ]
  },
  {
   "cell_type": "code",
   "execution_count": 20,
   "metadata": {},
   "outputs": [
    {
     "name": "stdout",
     "output_type": "stream",
     "text": [
      "Enter name = 2\n",
      "Enter age = 89\n",
      "Enter address = Nepal\n",
      "Enter phone = 9867665654\n",
      "Enter name = Shyam\n",
      "Enter age = 67\n",
      "Enter address = Patan\n",
      "Enter phone = 9867665654\n",
      "2 89 Nepal 9867665654\n",
      "Shyam 67 Patan 9867665654\n",
      "\n"
     ]
    }
   ],
   "source": [
    "infos = ''\n",
    "for i in range(2):\n",
    "    name = input(\"Enter name = \")\n",
    "    age = int(input(\"Enter age = \"))\n",
    "    add = input(\"Enter address = \")\n",
    "    phone = int(input(\"Enter phone = \"))\n",
    "\n",
    "    info = f\"{name} {age} {add} {phone}\\n\"\n",
    "    infos = infos+info\n",
    "    \n",
    "print(infos)\n",
    "\n",
    "b = open('infos.txt','a')\n",
    "b.write(infos)\n",
    "b.close()"
   ]
  },
  {
   "cell_type": "code",
   "execution_count": 22,
   "metadata": {},
   "outputs": [
    {
     "name": "stdout",
     "output_type": "stream",
     "text": [
      "Ram 89 Nepal 9867665654\n",
      "Shyam 67 Patan 9867665654\n",
      "\n"
     ]
    }
   ],
   "source": [
    "b = open('infos.txt','r')\n",
    "c = b.read()\n",
    "print(c)\n",
    "b.close()"
   ]
  },
  {
   "cell_type": "code",
   "execution_count": 27,
   "metadata": {},
   "outputs": [
    {
     "name": "stdout",
     "output_type": "stream",
     "text": [
      "['Ram 89 Nepal 9867665654', 'Shyam 67 Patan 9867665654']\n"
     ]
    }
   ],
   "source": [
    "d = c.split('\\n')[0:-1]\n",
    "print(d)"
   ]
  },
  {
   "cell_type": "code",
   "execution_count": 30,
   "metadata": {},
   "outputs": [
    {
     "name": "stdout",
     "output_type": "stream",
     "text": [
      "[['Ram', '89', 'Nepal', '9867665654'], ['Shyam', '67', 'Patan', '9867665654']]\n"
     ]
    }
   ],
   "source": [
    "final_list = []\n",
    "for i in range(len(d)):\n",
    "    final_list.append(d[i].split())\n",
    "print(final_list)"
   ]
  },
  {
   "cell_type": "code",
   "execution_count": 31,
   "metadata": {},
   "outputs": [
    {
     "data": {
      "text/plain": [
       "'Ram'"
      ]
     },
     "execution_count": 31,
     "metadata": {},
     "output_type": "execute_result"
    }
   ],
   "source": [
    "final_list[0][0]"
   ]
  },
  {
   "cell_type": "code",
   "execution_count": 34,
   "metadata": {},
   "outputs": [
    {
     "name": "stdout",
     "output_type": "stream",
     "text": [
      "Ram 89 Nepal 9867665654\n",
      "Shyam 67 Patan 9867665654\n",
      "\n"
     ]
    }
   ],
   "source": [
    "final_data = final_list\n",
    "n = len(final_list)\n",
    "infos = ''\n",
    "for i in range(n):\n",
    "    string_data = f\"{final_data[i][0]} {final_data[i][1]} {final_data[i][2]} {final_data[i][3]}\\n\"\n",
    "    infos = infos+string_data\n",
    "print(infos)"
   ]
  },
  {
   "cell_type": "code",
   "execution_count": 35,
   "metadata": {},
   "outputs": [],
   "source": [
    "import os\n",
    "try:\n",
    "    os.remove('class630am.txt')\n",
    "except:\n",
    "    print(\"The file is removed\")"
   ]
  },
  {
   "cell_type": "code",
   "execution_count": 38,
   "metadata": {},
   "outputs": [
    {
     "data": {
      "text/plain": [
       "'Untitled Folder\\\\infos.txt'"
      ]
     },
     "execution_count": 38,
     "metadata": {},
     "output_type": "execute_result"
    }
   ],
   "source": [
    "import shutil as s\n",
    "src = 'infos.txt'\n",
    "dst = 'Untitled Folder'\n",
    "s.copy(src,dst)\n"
   ]
  },
  {
   "cell_type": "code",
   "execution_count": 43,
   "metadata": {},
   "outputs": [
    {
     "data": {
      "text/plain": [
       "'Untitled Folder1/Untitled Folder/'"
      ]
     },
     "execution_count": 43,
     "metadata": {},
     "output_type": "execute_result"
    }
   ],
   "source": [
    "import shutil as s\n",
    "src = 'Untitled Folder'\n",
    "dst = 'Untitled Folder1/Untitled Folder/'\n",
    "s.copytree(src,dst)\n"
   ]
  },
  {
   "cell_type": "code",
   "execution_count": null,
   "metadata": {},
   "outputs": [],
   "source": []
  }
 ],
 "metadata": {
  "kernelspec": {
   "display_name": "Python 3",
   "language": "python",
   "name": "python3"
  },
  "language_info": {
   "codemirror_mode": {
    "name": "ipython",
    "version": 3
   },
   "file_extension": ".py",
   "mimetype": "text/x-python",
   "name": "python",
   "nbconvert_exporter": "python",
   "pygments_lexer": "ipython3",
   "version": "3.8.5"
  }
 },
 "nbformat": 4,
 "nbformat_minor": 2
}
