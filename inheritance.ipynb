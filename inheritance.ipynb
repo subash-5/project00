{
 "cells": [
  {
   "cell_type": "code",
   "execution_count": 1,
   "metadata": {},
   "outputs": [],
   "source": [
    "class Main:\n",
    "    pass\n",
    "\n",
    "class Derived(Main):\n",
    "    pass\n",
    "\n",
    "obj = Derived()\n"
   ]
  },
  {
   "cell_type": "code",
   "execution_count": 4,
   "metadata": {},
   "outputs": [
    {
     "name": "stdout",
     "output_type": "stream",
     "text": [
      "This is derieved class\n",
      "This is Main Class\n"
     ]
    }
   ],
   "source": [
    "class Main:\n",
    "    def main(self):\n",
    "        print(\"This is Main Class\")\n",
    "\n",
    "class Derived(Main):\n",
    "    def derieved(self):\n",
    "        print(\"This is derieved class\")\n",
    "\n",
    "obj = Derived()\n",
    "obj.derieved()\n",
    "obj.main()"
   ]
  },
  {
   "cell_type": "code",
   "execution_count": 6,
   "metadata": {},
   "outputs": [
    {
     "name": "stdout",
     "output_type": "stream",
     "text": [
      "This is derieved class\n",
      "Ram 34\n"
     ]
    }
   ],
   "source": [
    "class Main:\n",
    "    def __init__(self,name,age):\n",
    "        self.name = name\n",
    "        self.age = age\n",
    "\n",
    "class Derived(Main):\n",
    "    def derieved(self):\n",
    "        print(\"This is derieved class\")\n",
    "    def info(self):\n",
    "        print(self.name,self.age)\n",
    "\n",
    "obj = Derived(\"Ram\",34)\n",
    "obj.derieved()\n",
    "obj.info()\n",
    "obj1 = Main(\"Shyam\",67)\n"
   ]
  },
  {
   "cell_type": "code",
   "execution_count": 7,
   "metadata": {},
   "outputs": [
    {
     "name": "stdout",
     "output_type": "stream",
     "text": [
      "This is derieved class\n",
      "Ram 34\n",
      "Shyam 67\n"
     ]
    }
   ],
   "source": [
    "class Main:\n",
    "    def __init__(self,name,age):\n",
    "        self.name = name\n",
    "        self.age = age\n",
    "    def main(self):\n",
    "        print(self.name,self.age)\n",
    "\n",
    "\n",
    "class Derived(Main):\n",
    "    def derieved(self):\n",
    "        print(\"This is derieved class\")\n",
    "    def info(self):\n",
    "        print(self.name,self.age)\n",
    "\n",
    "obj = Derived(\"Ram\",34)\n",
    "obj.derieved()\n",
    "obj.info()\n",
    "obj1 = Main(\"Shyam\",67)\n",
    "obj1.main()"
   ]
  },
  {
   "cell_type": "code",
   "execution_count": 12,
   "metadata": {},
   "outputs": [
    {
     "name": "stdout",
     "output_type": "stream",
     "text": [
      "Hello welcome John from USA to Nepal\n",
      "John USA\n",
      "Jack China\n"
     ]
    },
    {
     "ename": "AttributeError",
     "evalue": "'Profile' object has no attribute 'hello'",
     "output_type": "error",
     "traceback": [
      "\u001b[1;31m---------------------------------------------------------------------------\u001b[0m",
      "\u001b[1;31mAttributeError\u001b[0m                            Traceback (most recent call last)",
      "\u001b[1;32m<ipython-input-12-29c10d90c7e9>\u001b[0m in \u001b[0;36m<module>\u001b[1;34m\u001b[0m\n\u001b[0;32m     20\u001b[0m \u001b[0my\u001b[0m \u001b[1;33m=\u001b[0m \u001b[0mProfile\u001b[0m\u001b[1;33m(\u001b[0m\u001b[1;34m\"Jack\"\u001b[0m\u001b[1;33m,\u001b[0m\u001b[1;34m\"China\"\u001b[0m\u001b[1;33m)\u001b[0m\u001b[1;33m\u001b[0m\u001b[1;33m\u001b[0m\u001b[0m\n\u001b[0;32m     21\u001b[0m \u001b[0my\u001b[0m\u001b[1;33m.\u001b[0m\u001b[0minfo\u001b[0m\u001b[1;33m(\u001b[0m\u001b[1;33m)\u001b[0m\u001b[1;33m\u001b[0m\u001b[1;33m\u001b[0m\u001b[0m\n\u001b[1;32m---> 22\u001b[1;33m \u001b[0my\u001b[0m\u001b[1;33m.\u001b[0m\u001b[0mhello\u001b[0m\u001b[1;33m(\u001b[0m\u001b[1;33m)\u001b[0m\u001b[1;33m\u001b[0m\u001b[1;33m\u001b[0m\u001b[0m\n\u001b[0m",
      "\u001b[1;31mAttributeError\u001b[0m: 'Profile' object has no attribute 'hello'"
     ]
    }
   ],
   "source": [
    "class Profile:\n",
    "    def __init__(self, name, address):\n",
    "        self.name = name\n",
    "        self.address = address\n",
    "\n",
    "    def info(self):\n",
    "        print(self.name, self.address)\n",
    "\n",
    "class Student(Profile):\n",
    "    def __init__(self, name, address, country):\n",
    "        Profile.__init__(self, name, address)\n",
    "        self.country = country\n",
    "\n",
    "    def hello(self):\n",
    "        print(f\"Hello welcome {self.name} from {self.address} to {self.country}\")\n",
    "\n",
    "x = Student(\"John\", \"USA\", \"Nepal\")\n",
    "x.hello()\n",
    "x.info()\n",
    "y = Profile(\"Jack\",\"China\")\n",
    "y.info()"
   ]
  },
  {
   "cell_type": "code",
   "execution_count": 14,
   "metadata": {},
   "outputs": [
    {
     "name": "stdout",
     "output_type": "stream",
     "text": [
      "this is classb\n",
      "this is classa\n"
     ]
    }
   ],
   "source": [
    "#Multiple inheritance\n",
    "class A:\n",
    "    def classa(self):\n",
    "        print(\"this is classa\")\n",
    "class B:\n",
    "    def classb(self):\n",
    "        print(\"this is classb\")\n",
    "class C(A,B):\n",
    "    def classc(self):\n",
    "        print(\"This is classc\")\n",
    "        \n",
    "obj = C()\n",
    "obj.classb()\n",
    "obj.classa()"
   ]
  },
  {
   "cell_type": "code",
   "execution_count": 15,
   "metadata": {},
   "outputs": [
    {
     "name": "stdout",
     "output_type": "stream",
     "text": [
      "this is classb\n",
      "this is classa\n"
     ]
    }
   ],
   "source": [
    "#Multilevel inheritance\n",
    "class A:\n",
    "    def classa(self):\n",
    "        print(\"this is classa\")\n",
    "class B(A):\n",
    "    def classb(self):\n",
    "        print(\"this is classb\")\n",
    "class C(B):\n",
    "    def classc(self):\n",
    "        print(\"This is classc\")\n",
    "        \n",
    "obj = C()\n",
    "obj.classb()\n",
    "obj.classa()"
   ]
  },
  {
   "cell_type": "code",
   "execution_count": 17,
   "metadata": {},
   "outputs": [
    {
     "name": "stdout",
     "output_type": "stream",
     "text": [
      "Hello welcome John from Kathmandu to Nepal\n"
     ]
    }
   ],
   "source": [
    "class Profile:\n",
    "    def __init__(self, name, address):\n",
    "        self.name = name\n",
    "        self.address = address\n",
    "\n",
    "\n",
    "class Student:\n",
    "    def __init__(self,country):\n",
    "#         Profile.__init__(self, name, address)\n",
    "        self.country = country\n",
    "    \n",
    "class Info(Profile,Student):\n",
    "    def __init__(self,name,address,country):\n",
    "        Profile.__init__(self, name, address)\n",
    "        Student.__init__(self, country)\n",
    "        \n",
    "    def hello(self):\n",
    "        print(f\"Hello welcome {self.name} from {self.address} to {self.country}\")\n",
    "\n",
    "x = Info(\"John\", \"Kathmandu\", \"Nepal\")\n",
    "x.hello()\n"
   ]
  },
  {
   "cell_type": "code",
   "execution_count": 26,
   "metadata": {},
   "outputs": [
    {
     "name": "stdout",
     "output_type": "stream",
     "text": [
      "Enter name = Ram\n",
      "Enter address = Patan\n",
      "Ram Patan\n",
      "Enter countryKathmandu\n",
      "Kathmandu\n",
      "Hello welcome Ram from Patan to Kathmandu\n"
     ]
    }
   ],
   "source": [
    "class Profile:\n",
    "    def __init__(self, name, address):\n",
    "        self.name = input(\"Enter name = \")\n",
    "        self.address = input(\"Enter address = \")\n",
    "        print(self.name,self.address)\n",
    "\n",
    "class Student:\n",
    "    def __init__(self,country):\n",
    "        self.country = input(\"Enter country\")\n",
    "        print(self.country)\n",
    "    \n",
    "class Info(Profile,Student):\n",
    "    def __init__(self,name,address,country):\n",
    "        Profile.__init__(self, name, address)\n",
    "        Student.__init__(self, country)\n",
    "        \n",
    "        \n",
    "    def hello(self):\n",
    "        print(f\"Hello welcome {self.name} from {self.address} to {self.country}\")\n",
    "\n",
    "x = Info(\"John\", \"Kathmandu\", \"Nepal\")\n",
    "x.hello()\n"
   ]
  },
  {
   "cell_type": "code",
   "execution_count": 1,
   "metadata": {},
   "outputs": [
    {
     "name": "stdout",
     "output_type": "stream",
     "text": [
      "Enter name = Ram\n",
      "Enter address = Kathmandu\n",
      "Ram Kathmandu\n",
      "Enter countryNepal\n",
      "Nepal\n",
      "Hello welcome Ram from Kathmandu to Nepal\n"
     ]
    }
   ],
   "source": [
    "class Profile:\n",
    "    name = input(\"Enter name = \")\n",
    "    address = input(\"Enter address = \")\n",
    "    print(name,address)\n",
    "\n",
    "class Student:\n",
    "    country = input(\"Enter country\")\n",
    "    print(country)\n",
    "    \n",
    "class Info(Profile,Student):\n",
    "    def hello(self):\n",
    "        print(f\"Hello welcome {self.name} from {self.address} to {self.country}\")\n",
    "\n",
    "x = Info()\n",
    "x.hello()\n"
   ]
  },
  {
   "cell_type": "code",
   "execution_count": null,
   "metadata": {},
   "outputs": [],
   "source": [
    "class Profile:\n",
    "    name = input(\"Enter name = \")\n",
    "    address = input(\"Enter address = \")\n",
    "    print(name,address)\n",
    "\n",
    "class Student(Profile):\n",
    "    country = input(\"Enter country\")\n",
    "    print(country)\n",
    "    \n",
    "class Info(Student):\n",
    "    def hello(self):\n",
    "        print(f\"Hello welcome {self.name} from {self.address} to {self.country}\")\n",
    "\n",
    "x = Info()\n",
    "x.hello()\n"
   ]
  }
 ],
 "metadata": {
  "kernelspec": {
   "display_name": "Python 3",
   "language": "python",
   "name": "python3"
  },
  "language_info": {
   "codemirror_mode": {
    "name": "ipython",
    "version": 3
   },
   "file_extension": ".py",
   "mimetype": "text/x-python",
   "name": "python",
   "nbconvert_exporter": "python",
   "pygments_lexer": "ipython3",
   "version": "3.7.1"
  }
 },
 "nbformat": 4,
 "nbformat_minor": 2
}
